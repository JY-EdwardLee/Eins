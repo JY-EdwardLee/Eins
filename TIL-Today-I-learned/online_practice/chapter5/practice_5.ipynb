{
  "nbformat": 4,
  "nbformat_minor": 0,
  "metadata": {
    "colab": {
      "provenance": [],
      "authorship_tag": "ABX9TyOrwzeD2tUF9gbKC9EDvyul",
      "include_colab_link": true
    },
    "kernelspec": {
      "name": "python3",
      "display_name": "Python 3"
    },
    "language_info": {
      "name": "python"
    }
  },
  "cells": [
    {
      "cell_type": "markdown",
      "metadata": {
        "id": "view-in-github",
        "colab_type": "text"
      },
      "source": [
        "<a href=\"https://colab.research.google.com/github/JY-EdwardLee/Eins/blob/master/TIL-Today-I-learned/online_practice/chapter5/practice_5.ipynb\" target=\"_parent\"><img src=\"https://colab.research.google.com/assets/colab-badge.svg\" alt=\"Open In Colab\"/></a>"
      ]
    },
    {
      "cell_type": "markdown",
      "source": [
        "### *Practice*"
      ],
      "metadata": {
        "id": "7pzp4LyLpu6w"
      }
    },
    {
      "cell_type": "code",
      "execution_count": 10,
      "metadata": {
        "colab": {
          "base_uri": "https://localhost:8080/"
        },
        "id": "No9af0TkpnB7",
        "outputId": "4a5b6eac-4db0-44b4-ffef-d73b6e8b9433"
      },
      "outputs": [
        {
          "output_type": "stream",
          "name": "stdout",
          "text": [
            "['1', '2', '3', '4', '5', '6', '7', '8', '9']\n",
            "2\n",
            "4\n",
            "6\n",
            "8\n",
            "10\n",
            "12\n",
            "14\n"
          ]
        }
      ],
      "source": [
        "# practice_1\n",
        "\n",
        "N = 9\n",
        "data_1 = '123456789'\n",
        "arr_1 = []\n",
        "# 아래에 코드를 작성하시오.\n",
        "for i in range(N):\n",
        "    arr_1.append(data_1[i])\n",
        "\n",
        "print(arr_1)\n",
        "\n",
        "M = 15\n",
        "data_2 = '1 2 3 4 5 6 7 8 9 10 11 12 13 14 15'\n",
        "# 아래에 코드를 작성하시오.\n",
        "arr_2 = data_2.split(\" \")\n",
        "\n",
        "for i in arr_2:\n",
        "  if int(i)%2 == 0:\n",
        "      print(i)\n"
      ]
    },
    {
      "cell_type": "code",
      "source": [
        "# practice_2\n",
        "data_1 = 'qweqwYadnOyjnsaU4trwg asjnaAn245krRmkfE 42grTasdnHasdnvEasdn asdevadnBasdanEsdkqefqefvaSasdqaeeqqvedwt5hfbsdT24tewfd'\n",
        "'''\n",
        "예시코드\n",
        "arr = [1, 2, 3, 4, 5]\n",
        "for num in arr:\n",
        "    print(num, end='')\n",
        "출력결과 : 12345\n",
        "'''\n",
        "# 아래에 코드를 작성하시오.\n",
        "for word in data_1:\n",
        "  if word.isupper() or word == \" \":\n",
        "    print(word , end = \"\")\n",
        "\n",
        "print()\n",
        "data_2 = '걉파반샤팝다푸거맥파바자들퍼바배들밥샵파누타히매니배사바파힘다브사부힙헤베내테치대내'\n",
        "arr = []\n",
        "\n",
        "# 아래에 코드를 작성하시오.\n",
        "search_word = ['내', '힘', '들', '다']\n",
        "for i in search_word:\n",
        "  arr.append(data_2.find(i))\n",
        "\n",
        "print(arr)\n",
        "\n",
        "arr.sort()\n",
        "\n",
        "print(arr)\n",
        "\n",
        "for i in arr:\n",
        "  print(data_2[i], end = \"\")\n",
        "\n"
      ],
      "metadata": {
        "colab": {
          "base_uri": "https://localhost:8080/"
        },
        "id": "Ul-axlousmql",
        "outputId": "1dd576fa-99ae-41a0-ce64-8d319ab76c66"
      },
      "execution_count": 36,
      "outputs": [
        {
          "output_type": "stream",
          "name": "stdout",
          "text": [
            "YOU ARE THE BEST\n",
            "[37, 29, 12, 5]\n",
            "[5, 12, 29, 37]\n",
            "다들힘내"
          ]
        }
      ]
    },
    {
      "cell_type": "code",
      "source": [
        "# practice_3\n",
        "\n",
        "def restructure_word(word, arr):\n",
        "  for element in word:\n",
        "    if element.isdecimal() == True:\n",
        "      for i in range(int(element)):\n",
        "        arr.pop()\n",
        "    else:\n",
        "      arr.remove(element)\n",
        "  return arr\n",
        "\n",
        "original_word = '코딩 공부는ㄴ 1일ㄹ 1커ㅓ밋ㅅ @@@#^()#_+!&~:\"'\n",
        "word = '1ㄴ2ㄹ3ㅓ4ㅅ5'\n",
        "arr = []\n",
        "\n",
        "arr.extend(original_word)\n",
        "print(arr)\n",
        "\n",
        "result = restructure_word(word, arr)\n",
        "print(result)\n",
        "print(\"\".join(result))"
      ],
      "metadata": {
        "colab": {
          "base_uri": "https://localhost:8080/"
        },
        "id": "haIJr4y4vq4L",
        "outputId": "f657de39-b82f-4727-ec0f-845d7e4d3fd4"
      },
      "execution_count": 60,
      "outputs": [
        {
          "output_type": "stream",
          "name": "stdout",
          "text": [
            "['코', '딩', ' ', '공', '부', '는', 'ㄴ', ' ', '1', '일', 'ㄹ', ' ', '1', '커', 'ㅓ', '밋', 'ㅅ', ' ', '@', '@', '@', '#', '^', '(', ')', '#', '_', '+', '!', '&', '~', ':', '\"']\n",
            "['코', '딩', ' ', '공', '부', '는', ' ', '1', '일', ' ', '1', '커', '밋', ' ']\n",
            "코딩 공부는 1일 1커밋 \n"
          ]
        }
      ]
    },
    {
      "cell_type": "code",
      "source": [
        "# pratice_4\n",
        "\n",
        "# 아래 함수를 수정하시오.\n",
        "def reverse_string(sentence):\n",
        "  return \"\".join(reversed(sentence))\n",
        "\n",
        "\n",
        "result = reverse_string(\"Hello, World!\")\n",
        "print(result)  # !dlroW ,olleH\n"
      ],
      "metadata": {
        "colab": {
          "base_uri": "https://localhost:8080/"
        },
        "id": "Tsnm78W10_Ym",
        "outputId": "c5bdc1d0-6c46-43c9-b4cb-e9e7c5a752cb"
      },
      "execution_count": 68,
      "outputs": [
        {
          "output_type": "stream",
          "name": "stdout",
          "text": [
            "!dlroW ,olleH\n"
          ]
        }
      ]
    },
    {
      "cell_type": "code",
      "source": [
        "# practice_5\n",
        "\n",
        "# 아래 함수를 수정하시오.\n",
        "def remove_duplicates(list_):\n",
        "    new_lst = []\n",
        "    for element in list_:\n",
        "        if element not in new_lst:\n",
        "            new_lst.append(element)\n",
        "\n",
        "    return new_lst\n",
        "\n",
        "\n",
        "result = remove_duplicates([1, 2, 2, 3, 4, 4, 5])\n",
        "print(result)\n"
      ],
      "metadata": {
        "colab": {
          "base_uri": "https://localhost:8080/"
        },
        "id": "oAdZnqkE1Z42",
        "outputId": "69259324-6c75-4dc2-9224-abe86450f8b6"
      },
      "execution_count": 69,
      "outputs": [
        {
          "output_type": "stream",
          "name": "stdout",
          "text": [
            "[1, 2, 3, 4, 5]\n"
          ]
        }
      ]
    },
    {
      "cell_type": "code",
      "source": [
        "# practice_6\n",
        "\n",
        "# 아래 함수를 수정하시오.\n",
        "def sort_tuple(tuple_):\n",
        "    new_tuple = sorted(tuple_)\n",
        "    return new_tuple\n",
        "\n",
        "\n",
        "result = sort_tuple((5, 2, 8, 1, 3))\n",
        "print(result)\n"
      ],
      "metadata": {
        "colab": {
          "base_uri": "https://localhost:8080/"
        },
        "id": "pnxk5B353EU-",
        "outputId": "6313d365-7b52-4bca-9cf6-b4133aeab370"
      },
      "execution_count": 71,
      "outputs": [
        {
          "output_type": "stream",
          "name": "stdout",
          "text": [
            "[1, 2, 3, 5, 8]\n"
          ]
        }
      ]
    },
    {
      "cell_type": "code",
      "source": [
        "# practice_7\n",
        "\n",
        "# 아래 함수를 수정하시오.\n",
        "\n",
        "def capitalize_words(words):\n",
        "\n",
        "    return words.title()\n",
        "\n",
        "result = capitalize_words(\"hello, world!\")\n",
        "print(result)\n",
        "\n",
        "\n",
        "\n",
        "# def capitalize_words(words):\n",
        "#     word_list = words.split(\" \")\n",
        "#     text = []\n",
        "#     for word in word_list:\n",
        "#       text.append(word.capitalize())\n",
        "#     return \" \".join(text)\n",
        "\n",
        "# result = capitalize_words(\"hello, world!\")\n",
        "# print(result)\n"
      ],
      "metadata": {
        "colab": {
          "base_uri": "https://localhost:8080/"
        },
        "id": "mj8myWYr3aGu",
        "outputId": "64a8d6b6-a149-45b5-abfb-17b40cc44a66"
      },
      "execution_count": 79,
      "outputs": [
        {
          "output_type": "stream",
          "name": "stdout",
          "text": [
            "Hello, World!\n"
          ]
        }
      ]
    },
    {
      "cell_type": "code",
      "source": [
        "# Practice_8\n",
        "\n",
        "# 아래 함수를 수정하시오.\n",
        "def even_elements(list_):\n",
        "    new_list = []\n",
        "    for i in list_:\n",
        "      if i%2 != 0:\n",
        "        list_.pop(list_.index(i))\n",
        "    new_list.extend(list_)\n",
        "    return list_\n",
        "\n",
        "\n",
        "my_list = [1, 2, 3, 4, 5, 6, 7, 8, 9, 10]\n",
        "result = even_elements(my_list)\n",
        "print(result)\n"
      ],
      "metadata": {
        "colab": {
          "base_uri": "https://localhost:8080/"
        },
        "id": "1Dor8tF439Qo",
        "outputId": "f04e779a-ae5a-449f-f783-5824c0e240e3"
      },
      "execution_count": 84,
      "outputs": [
        {
          "output_type": "stream",
          "name": "stdout",
          "text": [
            "[2, 4, 6, 8, 10]\n"
          ]
        }
      ]
    },
    {
      "cell_type": "code",
      "source": [],
      "metadata": {
        "id": "qFnut1KA5pCa"
      },
      "execution_count": null,
      "outputs": []
    }
  ]
}